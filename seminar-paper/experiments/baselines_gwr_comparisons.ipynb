{
 "cells": [
  {
   "cell_type": "code",
   "execution_count": 7,
   "metadata": {},
   "outputs": [
    {
     "name": "stdout",
     "output_type": "stream",
     "text": [
      "77.49 1.93 4.83 2.0 3.86 3.84\n",
      "20.83 0.15 1.08 0.16 0.77 0.75\n"
     ]
    }
   ],
   "source": [
    "time_gwr = [\r\n",
    "    18.3411,\r\n",
    "    71.8573,\r\n",
    "    76.4735,\r\n",
    "    80.6195,\r\n",
    "    81.8336,\r\n",
    "    81.4841,\r\n",
    "    94.7645,\r\n",
    "    90.0111,\r\n",
    "    88.0335,\r\n",
    "    91.4531,\r\n",
    "]\r\n",
    "\r\n",
    "time_naive = [\r\n",
    "    1.6990,\r\n",
    "    1.8028,\r\n",
    "    1.8816,\r\n",
    "    1.9402,\r\n",
    "    1.8341,\r\n",
    "    1.9397,\r\n",
    "    2.2736,\r\n",
    "    2.0225,\r\n",
    "    1.9236,\r\n",
    "    2.0019,\r\n",
    "]\r\n",
    "\r\n",
    "time_r10_ewc = [\r\n",
    "    2.5453,\r\n",
    "    3.9812,\r\n",
    "    4.3081,\r\n",
    "    4.2128,\r\n",
    "    5.0851,\r\n",
    "    5.0114,\r\n",
    "    5.1838,\r\n",
    "    5.6052,\r\n",
    "    5.7102,\r\n",
    "    6.6686,\r\n",
    "]\r\n",
    "\r\n",
    "time_lwf = [\r\n",
    "    1.6705,\r\n",
    "    1.9160,\r\n",
    "    1.9434,\r\n",
    "    1.9336,\r\n",
    "    1.9357,\r\n",
    "    1.9629,\r\n",
    "    2.2567,\r\n",
    "    2.1420,\r\n",
    "    2.0460,\r\n",
    "    2.1687,\r\n",
    "]\r\n",
    "\r\n",
    "time_r50 = [\r\n",
    "    1.6552,\r\n",
    "    3.7642,\r\n",
    "    3.8518,\r\n",
    "    3.9748,\r\n",
    "    4.0145,\r\n",
    "    4.0611,\r\n",
    "    4.5734,\r\n",
    "    4.3012,\r\n",
    "    4.1103,\r\n",
    "    4.3275,\r\n",
    "]\r\n",
    "\r\n",
    "time_r100 = [\r\n",
    "    1.7033,\r\n",
    "    3.7704,\r\n",
    "    3.8162,\r\n",
    "    3.8588,\r\n",
    "    3.9790,\r\n",
    "    3.8809,\r\n",
    "    4.5583,\r\n",
    "    4.3088,\r\n",
    "    4.1796,\r\n",
    "    4.3301,\r\n",
    "]\r\n",
    "\r\n",
    "times = [time_gwr, time_naive, time_r10_ewc, time_lwf, time_r50, time_r100]\r\n",
    "\r\n",
    "print(*[round(np.mean(acc), 2) for acc in accs])\r\n",
    "print(*[round(np.std(acc), 2) for acc in accs])\r\n"
   ]
  },
  {
   "cell_type": "code",
   "execution_count": 6,
   "metadata": {},
   "outputs": [
    {
     "name": "stdout",
     "output_type": "stream",
     "text": [
      "10.93 7.18 15.16 15.51 40.78 43.75 44.42 78.07\n",
      "2.06 3.42 5.3 5.06 6.12 7.04 4.79 0.63\n"
     ]
    }
   ],
   "source": [
    "import numpy as np\r\n",
    "\r\n",
    "# single hidden layer\r\n",
    "\r\n",
    "naive_acc = np.array([14.66, 8.92, 11.559999999999999, 9.700000000000001, 9.8])\r\n",
    "\r\n",
    "lwf_acc = np.array([0.67, 8.92, 6.84, 9.65, 9.8])\r\n",
    "\r\n",
    "r_10_acc = np.array([19.39, 8.92, 15.45, 9.629999999999999, 22.42])\r\n",
    "\r\n",
    "r_10_ewc_acc = np.array([17.34, 8.92, 21.25, 10.13, 19.89])\r\n",
    "\r\n",
    "r_50_acc = np.array([49.8, 31.64, 44.43, 37.88, 40.17])\r\n",
    "\r\n",
    "r_100_acc = np.array(\r\n",
    "    [53.779999999999994, 34.239999999999995, 49.53, 39.300000000000004, 41.91]\r\n",
    ")\r\n",
    "\r\n",
    "gwr_acc = np.array([45.15, 49.89, 38.23])\r\n",
    "\r\n",
    "batch_acc = np.array([77.82, 77.83, 78.01, 79.27, 77.42999999999999])\r\n",
    "\r\n",
    "accs = [\r\n",
    "    naive_acc,\r\n",
    "    lwf_acc,\r\n",
    "    r_10_acc,\r\n",
    "    r_10_ewc_acc,\r\n",
    "    r_50_acc,\r\n",
    "    r_100_acc,\r\n",
    "    gwr_acc,\r\n",
    "    batch_acc,\r\n",
    "]\r\n",
    "\r\n",
    "print(*[round(np.mean(acc), 2) for acc in accs])\r\n",
    "print(*[round(np.std(acc), 2) for acc in accs])\r\n"
   ]
  },
  {
   "cell_type": "code",
   "execution_count": 7,
   "metadata": {},
   "outputs": [
    {
     "name": "stdout",
     "output_type": "stream",
     "text": [
      "0.99 0.99 0.95 0.94 0.66 0.63 0.06\n",
      "0.02 0.02 0.05 0.05 0.07 0.08 0.06\n"
     ]
    }
   ],
   "source": [
    "naive_forgetting = np.array(\r\n",
    "    [0.952383825275947, 1.0, 0.9976874793524941, 0.9986798679867986, 1.0]\r\n",
    ")\r\n",
    "\r\n",
    "lwf_forgetting = np.array(\r\n",
    "    [0.991483113069016, 1.0, 0.9395206537129648, 0.99910535896639, 1.0]\r\n",
    ")\r\n",
    "\r\n",
    "r_10_forgetting = np.array(\r\n",
    "    [\r\n",
    "        0.9057290480316171,\r\n",
    "        1.0,\r\n",
    "        0.9537773964512206,\r\n",
    "        0.9994595763078252,\r\n",
    "        0.8717956985898366,\r\n",
    "    ]\r\n",
    ")\r\n",
    "\r\n",
    "r_10_ewc_forgetting = np.array(\r\n",
    "    [\r\n",
    "        0.9258523309433137,\r\n",
    "        0.9995599559955995,\r\n",
    "        0.8886507549673266,\r\n",
    "        0.993514915693904,\r\n",
    "        0.8974535806997795,\r\n",
    "    ]\r\n",
    ")\r\n",
    "\r\n",
    "r_50_forgetting = np.array(\r\n",
    "    [\r\n",
    "        0.5580979033592713,\r\n",
    "        0.7561914079558713,\r\n",
    "        0.6177098740898003,\r\n",
    "        0.691727200508263,\r\n",
    "        0.6699212867219152,\r\n",
    "    ]\r\n",
    ")\r\n",
    "\r\n",
    "r_100_forgetting = np.array(\r\n",
    "    [\r\n",
    "        0.5162371205085852,\r\n",
    "        0.72631126414994,\r\n",
    "        0.5582431719471248,\r\n",
    "        0.6757191327053338,\r\n",
    "        0.6487566314321978,\r\n",
    "    ]\r\n",
    ")\r\n",
    "\r\n",
    "gwr_forgetting = np.array([0.1233, -0.0195, 0.0892])\r\n",
    "\r\n",
    "accs = [\r\n",
    "    naive_forgetting,\r\n",
    "    lwf_forgetting,\r\n",
    "    r_10_forgetting,\r\n",
    "    r_10_ewc_forgetting,\r\n",
    "    r_50_forgetting,\r\n",
    "    r_100_forgetting,\r\n",
    "    gwr_forgetting,\r\n",
    "]\r\n",
    "\r\n",
    "print(*[round(np.mean(acc), 2) for acc in accs])\r\n",
    "print(*[round(np.std(acc), 2) for acc in accs])\r\n"
   ]
  },
  {
   "cell_type": "code",
   "execution_count": 20,
   "metadata": {},
   "outputs": [
    {
     "name": "stdout",
     "output_type": "stream",
     "text": [
      "[ 0.47305389 -0.5013      0.4672619  -0.30145662  0.04282787  1.\n",
      " -0.04970277  0.05868984 -0.94530348  0.        ]\n",
      "0.02440706282976206\n"
     ]
    }
   ],
   "source": [
    "\r\n",
    "gwr_f_rel = np.array([\r\n",
    "(0.7515 - 0.3960) / 0.7515,\r\n",
    "(0.0000 - 0.5013),\r\n",
    "(0.2352 - 0.1253) / 0.2352,\r\n",
    "(0.4737 - 0.6165) / 0.4737,\r\n",
    "(0.9760 - 0.9342) / 0.9760,\r\n",
    "(0.3570 - 0.0000) / 0.3570,\r\n",
    "(0.6056 - 0.6357) / 0.6056,\r\n",
    "(0.7480 - 0.7041) / 0.7480,\r\n",
    "(0.4333 - 0.8429) / 0.4333,\r\n",
    "(0.2388 - 0.2388) / 0.2388\r\n",
    "])\r\n",
    "\r\n",
    "print(gwr_f_rel)\r\n",
    "print(np.mean(gwr_f_rel))"
   ]
  },
  {
   "cell_type": "code",
   "execution_count": 21,
   "metadata": {},
   "outputs": [
    {
     "name": "stdout",
     "output_type": "stream",
     "text": [
      "0.46798869960183076\n"
     ]
    }
   ],
   "source": [
    "gwr_first_f_rel = np.array([\r\n",
    "    0.2547 / 1.0000,\r\n",
    "    0.3554 / 0.7515,\r\n",
    "    0.4286 / 0.6337\r\n",
    "])\r\n",
    "\r\n",
    "print(np.mean(gwr_first_f_rel))"
   ]
  }
 ],
 "metadata": {
  "interpreter": {
   "hash": "9c977a273e7d461305986ecd7a56647ceadbd63fb5d1b2816d00f366ceb62c64"
  },
  "kernelspec": {
   "display_name": "Python 3.8.10 64-bit ('avalanche-env': conda)",
   "name": "python3"
  },
  "language_info": {
   "codemirror_mode": {
    "name": "ipython",
    "version": 3
   },
   "file_extension": ".py",
   "mimetype": "text/x-python",
   "name": "python",
   "nbconvert_exporter": "python",
   "pygments_lexer": "ipython3",
   "version": "3.8.5"
  },
  "orig_nbformat": 4
 },
 "nbformat": 4,
 "nbformat_minor": 2
}