{
 "cells": [
  {
   "cell_type": "code",
   "execution_count": 7,
   "metadata": {},
   "outputs": [
    {
     "name": "stdout",
     "output_type": "stream",
     "text": [
      "77.49 1.93 4.83 2.0 3.86 3.84\n",
      "20.83 0.15 1.08 0.16 0.77 0.75\n"
     ]
    }
   ],
   "source": [
    "time_gwr = [18.3411,\r\n",
    "71.8573,\r\n",
    "76.4735,\r\n",
    "80.6195,\r\n",
    "81.8336,\r\n",
    "81.4841,\r\n",
    "94.7645,\r\n",
    "90.0111,\r\n",
    "88.0335,\r\n",
    "91.4531]\r\n",
    "\r\n",
    "time_naive = [1.6990,\r\n",
    "1.8028,\r\n",
    "1.8816,\r\n",
    "1.9402,\r\n",
    "1.8341,\r\n",
    "1.9397,\r\n",
    "2.2736,\r\n",
    "2.0225,\r\n",
    "1.9236,\r\n",
    "2.0019]\r\n",
    "\r\n",
    "time_r10_ewc = [2.5453,\r\n",
    "3.9812,\r\n",
    "4.3081,\r\n",
    "4.2128,\r\n",
    "5.0851,\r\n",
    "5.0114,\r\n",
    "5.1838,\r\n",
    "5.6052,\r\n",
    "5.7102,\r\n",
    "6.6686]\r\n",
    "\r\n",
    "time_lwf = [1.6705,\r\n",
    "1.9160,\r\n",
    "1.9434,\r\n",
    "1.9336,\r\n",
    "1.9357,\r\n",
    "1.9629,\r\n",
    "2.2567,\r\n",
    "2.1420,\r\n",
    "2.0460,\r\n",
    "2.1687]\r\n",
    "\r\n",
    "time_r50 = [1.6552,\r\n",
    "3.7642,\r\n",
    "3.8518,\r\n",
    "3.9748,\r\n",
    "4.0145,\r\n",
    "4.0611,\r\n",
    "4.5734,\r\n",
    "4.3012,\r\n",
    "4.1103,\r\n",
    "4.3275]\r\n",
    "\r\n",
    "time_r100 = [1.7033,\r\n",
    "3.7704,\r\n",
    "3.8162,\r\n",
    "3.8588,\r\n",
    "3.9790,\r\n",
    "3.8809,\r\n",
    "4.5583,\r\n",
    "4.3088,\r\n",
    "4.1796,\r\n",
    "4.3301]\r\n",
    "\r\n",
    "times = [time_gwr,time_naive,time_r10_ewc,time_lwf,time_r50,time_r100]\r\n",
    "\r\n",
    "print(*[round(np.mean(acc), 2) for acc in accs])\r\n",
    "print(*[round(np.std(acc), 2) for acc in accs])"
   ]
  },
  {
   "cell_type": "code",
   "execution_count": 5,
   "metadata": {},
   "outputs": [
    {
     "name": "stdout",
     "output_type": "stream",
     "text": [
      "10.93 7.18 15.16 15.51 40.78 43.75 44.42 78.07\n",
      "2.06 3.42 5.3 5.06 6.12 7.04 4.79 0.63\n"
     ]
    }
   ],
   "source": [
    "import numpy as np\r\n",
    "# single hidden layer\r\n",
    "\r\n",
    "naive_acc = np.array([14.66,\r\n",
    "8.92,\r\n",
    "11.559999999999999,\r\n",
    "9.700000000000001,\r\n",
    "9.8])\r\n",
    "\r\n",
    "lwf_acc = np.array([0.67,\r\n",
    "8.92,\r\n",
    "6.84,\r\n",
    "9.65,\r\n",
    "9.8])\r\n",
    "\r\n",
    "r_10_acc = np.array([19.39,\r\n",
    "8.92,\r\n",
    "15.45,\r\n",
    "9.629999999999999,\r\n",
    "22.42])\r\n",
    "\r\n",
    "r_10_ewc_acc = np.array([17.34,\r\n",
    "8.92,\r\n",
    "21.25,\r\n",
    "10.13,\r\n",
    "19.89])\r\n",
    "\r\n",
    "r_50_acc = np.array([49.8,\r\n",
    "31.64,\r\n",
    "44.43,\r\n",
    "37.88,\r\n",
    "40.17])\r\n",
    "\r\n",
    "r_100_acc = np.array([53.779999999999994,\r\n",
    "34.239999999999995,\r\n",
    "49.53,\r\n",
    "39.300000000000004,\r\n",
    "41.91])\r\n",
    "\r\n",
    "gwr_acc = np.array([45.15, 49.89, 38.23])\r\n",
    "\r\n",
    "batch_acc = np.array([77.82, 77.83, 78.01, 79.27, 77.42999999999999])\r\n",
    "\r\n",
    "accs = [naive_acc, lwf_acc, r_10_acc, r_10_ewc_acc, r_50_acc, r_100_acc, gwr_acc, batch_acc]\r\n",
    "\r\n",
    "print(*[round(np.mean(acc), 2) for acc in accs])\r\n",
    "print(*[round(np.std(acc), 2) for acc in accs])"
   ]
  }
 ],
 "metadata": {
  "interpreter": {
   "hash": "9c977a273e7d461305986ecd7a56647ceadbd63fb5d1b2816d00f366ceb62c64"
  },
  "kernelspec": {
   "display_name": "Python 3.8.10 64-bit ('avalanche-env': conda)",
   "name": "python3"
  },
  "language_info": {
   "codemirror_mode": {
    "name": "ipython",
    "version": 3
   },
   "file_extension": ".py",
   "mimetype": "text/x-python",
   "name": "python",
   "nbconvert_exporter": "python",
   "pygments_lexer": "ipython3",
   "version": "3.8.5"
  },
  "orig_nbformat": 4
 },
 "nbformat": 4,
 "nbformat_minor": 2
}