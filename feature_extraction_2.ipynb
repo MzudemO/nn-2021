{
 "cells": [
  {
   "cell_type": "markdown",
   "id": "a942ca3c",
   "metadata": {},
   "source": [
    "**G-EM** uses: <br />\n",
    "128x128 RGB images at a reduced frame rate of 5hz\n",
    "VGG model pretrained on the ILSVRC-2012 dataset, after applying a a convolutional operation with 256 1x1 kernels on the output of the fully connected layer to reduce its dimensionality from 2048 to 256."
   ]
  },
  {
   "cell_type": "code",
   "execution_count": 27,
   "id": "6e487eb9",
   "metadata": {},
   "outputs": [],
   "source": [
    "import torch\n",
    "import torchvision\n",
    "import numpy as np\n",
    "from torch import optim, nn\n",
    "from torchvision import models, transforms\n",
    "model = models.vgg16(pretrained=True)"
   ]
  },
  {
   "cell_type": "code",
   "execution_count": 12,
   "id": "8f4957f4",
   "metadata": {},
   "outputs": [],
   "source": [
    "class FeatureExtractor(nn.Module):\n",
    "    def __init__(self, model):\n",
    "        super(FeatureExtractor, self).__init__()\n",
    "        #VGG-16 Feature Layers\n",
    "        self.features = list(model.features)\n",
    "        self.features = nn.Sequential(*self.features)\n",
    "        #VGG-16 Average Pooling Layer\n",
    "        self.pooling = model.avgpool\n",
    "        #Image into one-dimensional vector\n",
    "        self.flatten = nn.Flatten()\n",
    "        # Extract the first part of fully-connected layer from VGG16\n",
    "        self.fc = model.classifier[0]\n",
    "        \n",
    "        #additional \n",
    "        self.last = nn.Linear(4096, 256)\n",
    "        #in_channels=in_features, out_channels=num_classes, kernel_size=1\n",
    "        #self.convolutions = nn.Conv2d(inputfeature, outputfeature, 3, padding=1)\n",
    "  \n",
    "    def forward(self, x):\n",
    "\n",
    "        out = self.features(x)\n",
    "        out = self.pooling(out)\n",
    "        out = self.flatten(out)\n",
    "        out = self.fc(out) \n",
    "        \n",
    "\n",
    "        out = self.last(out)\n",
    "        return out \n",
    "\n"
   ]
  },
  {
   "cell_type": "code",
   "execution_count": 13,
   "id": "e86d531f",
   "metadata": {},
   "outputs": [],
   "source": [
    "# Initialize the model\n",
    "model = models.vgg16(pretrained=True)\n",
    "new_model = FeatureExtractor(model)\n",
    "\n",
    "# Change the device to GPU\n",
    "device = torch.device('cuda:0' if torch.cuda.is_available() else \"cpu\")\n",
    "new_model = new_model.to(device)"
   ]
  },
  {
   "cell_type": "code",
   "execution_count": 14,
   "id": "06532fcb",
   "metadata": {},
   "outputs": [
    {
     "name": "stdout",
     "output_type": "stream",
     "text": [
      "VGG(\n",
      "  (features): Sequential(\n",
      "    (0): Conv2d(3, 64, kernel_size=(3, 3), stride=(1, 1), padding=(1, 1))\n",
      "    (1): ReLU(inplace=True)\n",
      "    (2): Conv2d(64, 64, kernel_size=(3, 3), stride=(1, 1), padding=(1, 1))\n",
      "    (3): ReLU(inplace=True)\n",
      "    (4): MaxPool2d(kernel_size=2, stride=2, padding=0, dilation=1, ceil_mode=False)\n",
      "    (5): Conv2d(64, 128, kernel_size=(3, 3), stride=(1, 1), padding=(1, 1))\n",
      "    (6): ReLU(inplace=True)\n",
      "    (7): Conv2d(128, 128, kernel_size=(3, 3), stride=(1, 1), padding=(1, 1))\n",
      "    (8): ReLU(inplace=True)\n",
      "    (9): MaxPool2d(kernel_size=2, stride=2, padding=0, dilation=1, ceil_mode=False)\n",
      "    (10): Conv2d(128, 256, kernel_size=(3, 3), stride=(1, 1), padding=(1, 1))\n",
      "    (11): ReLU(inplace=True)\n",
      "    (12): Conv2d(256, 256, kernel_size=(3, 3), stride=(1, 1), padding=(1, 1))\n",
      "    (13): ReLU(inplace=True)\n",
      "    (14): Conv2d(256, 256, kernel_size=(3, 3), stride=(1, 1), padding=(1, 1))\n",
      "    (15): ReLU(inplace=True)\n",
      "    (16): MaxPool2d(kernel_size=2, stride=2, padding=0, dilation=1, ceil_mode=False)\n",
      "    (17): Conv2d(256, 512, kernel_size=(3, 3), stride=(1, 1), padding=(1, 1))\n",
      "    (18): ReLU(inplace=True)\n",
      "    (19): Conv2d(512, 512, kernel_size=(3, 3), stride=(1, 1), padding=(1, 1))\n",
      "    (20): ReLU(inplace=True)\n",
      "    (21): Conv2d(512, 512, kernel_size=(3, 3), stride=(1, 1), padding=(1, 1))\n",
      "    (22): ReLU(inplace=True)\n",
      "    (23): MaxPool2d(kernel_size=2, stride=2, padding=0, dilation=1, ceil_mode=False)\n",
      "    (24): Conv2d(512, 512, kernel_size=(3, 3), stride=(1, 1), padding=(1, 1))\n",
      "    (25): ReLU(inplace=True)\n",
      "    (26): Conv2d(512, 512, kernel_size=(3, 3), stride=(1, 1), padding=(1, 1))\n",
      "    (27): ReLU(inplace=True)\n",
      "    (28): Conv2d(512, 512, kernel_size=(3, 3), stride=(1, 1), padding=(1, 1))\n",
      "    (29): ReLU(inplace=True)\n",
      "    (30): MaxPool2d(kernel_size=2, stride=2, padding=0, dilation=1, ceil_mode=False)\n",
      "  )\n",
      "  (avgpool): AdaptiveAvgPool2d(output_size=(7, 7))\n",
      "  (classifier): Sequential(\n",
      "    (0): Linear(in_features=25088, out_features=4096, bias=True)\n",
      "    (1): ReLU(inplace=True)\n",
      "    (2): Dropout(p=0.5, inplace=False)\n",
      "    (3): Linear(in_features=4096, out_features=4096, bias=True)\n",
      "    (4): ReLU(inplace=True)\n",
      "    (5): Dropout(p=0.5, inplace=False)\n",
      "    (6): Linear(in_features=4096, out_features=1000, bias=True)\n",
      "  )\n",
      ")\n"
     ]
    }
   ],
   "source": [
    "print(model)"
   ]
  },
  {
   "cell_type": "code",
   "execution_count": 15,
   "id": "de373762",
   "metadata": {},
   "outputs": [
    {
     "name": "stdout",
     "output_type": "stream",
     "text": [
      "FeatureExtractor(\n",
      "  (features): Sequential(\n",
      "    (0): Conv2d(3, 64, kernel_size=(3, 3), stride=(1, 1), padding=(1, 1))\n",
      "    (1): ReLU(inplace=True)\n",
      "    (2): Conv2d(64, 64, kernel_size=(3, 3), stride=(1, 1), padding=(1, 1))\n",
      "    (3): ReLU(inplace=True)\n",
      "    (4): MaxPool2d(kernel_size=2, stride=2, padding=0, dilation=1, ceil_mode=False)\n",
      "    (5): Conv2d(64, 128, kernel_size=(3, 3), stride=(1, 1), padding=(1, 1))\n",
      "    (6): ReLU(inplace=True)\n",
      "    (7): Conv2d(128, 128, kernel_size=(3, 3), stride=(1, 1), padding=(1, 1))\n",
      "    (8): ReLU(inplace=True)\n",
      "    (9): MaxPool2d(kernel_size=2, stride=2, padding=0, dilation=1, ceil_mode=False)\n",
      "    (10): Conv2d(128, 256, kernel_size=(3, 3), stride=(1, 1), padding=(1, 1))\n",
      "    (11): ReLU(inplace=True)\n",
      "    (12): Conv2d(256, 256, kernel_size=(3, 3), stride=(1, 1), padding=(1, 1))\n",
      "    (13): ReLU(inplace=True)\n",
      "    (14): Conv2d(256, 256, kernel_size=(3, 3), stride=(1, 1), padding=(1, 1))\n",
      "    (15): ReLU(inplace=True)\n",
      "    (16): MaxPool2d(kernel_size=2, stride=2, padding=0, dilation=1, ceil_mode=False)\n",
      "    (17): Conv2d(256, 512, kernel_size=(3, 3), stride=(1, 1), padding=(1, 1))\n",
      "    (18): ReLU(inplace=True)\n",
      "    (19): Conv2d(512, 512, kernel_size=(3, 3), stride=(1, 1), padding=(1, 1))\n",
      "    (20): ReLU(inplace=True)\n",
      "    (21): Conv2d(512, 512, kernel_size=(3, 3), stride=(1, 1), padding=(1, 1))\n",
      "    (22): ReLU(inplace=True)\n",
      "    (23): MaxPool2d(kernel_size=2, stride=2, padding=0, dilation=1, ceil_mode=False)\n",
      "    (24): Conv2d(512, 512, kernel_size=(3, 3), stride=(1, 1), padding=(1, 1))\n",
      "    (25): ReLU(inplace=True)\n",
      "    (26): Conv2d(512, 512, kernel_size=(3, 3), stride=(1, 1), padding=(1, 1))\n",
      "    (27): ReLU(inplace=True)\n",
      "    (28): Conv2d(512, 512, kernel_size=(3, 3), stride=(1, 1), padding=(1, 1))\n",
      "    (29): ReLU(inplace=True)\n",
      "    (30): MaxPool2d(kernel_size=2, stride=2, padding=0, dilation=1, ceil_mode=False)\n",
      "  )\n",
      "  (pooling): AdaptiveAvgPool2d(output_size=(7, 7))\n",
      "  (flatten): Flatten(start_dim=1, end_dim=-1)\n",
      "  (fc): Linear(in_features=25088, out_features=4096, bias=True)\n",
      "  (last): Linear(in_features=4096, out_features=256, bias=True)\n",
      ")\n"
     ]
    }
   ],
   "source": [
    "print(new_model)"
   ]
  },
  {
   "cell_type": "code",
   "execution_count": 18,
   "id": "e97d98eb",
   "metadata": {},
   "outputs": [],
   "source": [
    "#used to generate a random picture to test dimensions \n",
    "x_test = torch.randn(1,3,128,128)\n"
   ]
  },
  {
   "cell_type": "code",
   "execution_count": 19,
   "id": "1bade550",
   "metadata": {},
   "outputs": [],
   "source": [
    "img = x_test.to(device)"
   ]
  },
  {
   "cell_type": "code",
   "execution_count": 21,
   "id": "212ee382",
   "metadata": {},
   "outputs": [],
   "source": [
    "with torch.no_grad():\n",
    "        # Extract the feature from the image\n",
    "        feature = new_model(img)"
   ]
  },
  {
   "cell_type": "code",
   "execution_count": 22,
   "id": "5679a7f2",
   "metadata": {},
   "outputs": [
    {
     "name": "stdout",
     "output_type": "stream",
     "text": [
      "test: torch.Size([1, 256])\n"
     ]
    }
   ],
   "source": [
    "print('test:', feature.size())"
   ]
  },
  {
   "cell_type": "code",
   "execution_count": 23,
   "id": "3e77d85b",
   "metadata": {
    "scrolled": true
   },
   "outputs": [
    {
     "data": {
      "text/plain": [
       "array([-1.7275746e+00,  2.3211155e+00,  3.6684957e-01, -1.1551425e+00,\n",
       "        1.4975404e+00, -1.9239101e-01,  2.2417238e-01, -3.1314749e-01,\n",
       "        1.9116800e-01,  8.8802147e-01,  5.6785893e-01,  2.2289724e+00,\n",
       "       -8.4435713e-01,  1.6069946e+00, -1.4385359e+00,  6.8476158e-01,\n",
       "        3.8820413e-01,  7.5183523e-01, -6.4111191e-01, -1.2691690e+00,\n",
       "       -1.0025713e+00, -8.3164141e-02, -5.7458985e-01, -1.9322129e-01,\n",
       "       -2.0938606e+00,  3.9149585e-01,  1.4792264e+00, -1.4138621e-01,\n",
       "       -1.8766364e+00,  2.2859268e+00,  7.8887445e-01, -1.9380818e-01,\n",
       "       -7.0947319e-01, -6.7389470e-01,  2.2610192e-01, -7.8376132e-01,\n",
       "       -2.2947155e-03,  2.2897674e-02, -3.4576935e-01,  7.7805907e-01,\n",
       "       -7.1402478e-01,  4.1420802e-01, -9.7193891e-01, -5.4388511e-01,\n",
       "       -4.3576702e-02, -5.2412277e-01,  5.2911776e-01, -1.5352100e-01,\n",
       "        1.6820659e-01,  1.0148305e+00, -8.9298564e-01, -8.6586910e-01,\n",
       "        3.3035979e-01, -5.2902257e-01,  9.4566926e-02, -1.6955068e+00,\n",
       "       -8.5935277e-01,  1.4197659e-01, -5.2309173e-01,  1.2695032e+00,\n",
       "       -7.6300815e-02,  1.9171748e+00, -3.3225191e-01,  3.2698926e-01,\n",
       "       -4.7401559e-02,  1.4861192e-01,  2.7685198e-01, -5.0644279e-03,\n",
       "       -2.5642875e-01, -8.6490744e-01, -2.2230390e-02, -2.1456420e-01,\n",
       "       -8.8265806e-01,  1.7176123e+00,  1.3603920e+00, -4.0332842e-01,\n",
       "       -1.4423866e+00,  2.1779263e-02, -2.2471306e+00, -5.0734824e-01,\n",
       "        1.7725159e+00, -1.1931039e+00, -3.8518559e-02, -3.8439435e-01,\n",
       "        1.4931077e+00, -1.1352448e+00, -2.4121706e-01, -1.0825006e+00,\n",
       "        6.8045175e-01,  1.0181764e+00, -1.1875147e-01,  5.5494374e-01,\n",
       "       -5.0976440e-02, -1.8070472e+00,  1.0139853e+00,  4.2248002e-01,\n",
       "       -1.4188863e+00,  5.2642274e-01,  4.1593152e-01,  1.3063808e-01,\n",
       "        1.0254523e-01, -5.4432011e-01, -3.6776099e-01, -4.0510520e-01,\n",
       "        6.7516631e-01, -2.3845369e-02, -1.5544581e+00,  5.6034040e-01,\n",
       "       -9.8639125e-01, -1.2496012e+00, -5.2012410e-02,  5.9630847e-01,\n",
       "       -1.7813338e+00, -4.2774022e-01,  1.7387523e-01,  6.9532305e-01,\n",
       "        5.3330141e-01,  7.9701281e-01, -8.3543670e-01,  1.5014291e+00,\n",
       "       -6.5766907e-01, -4.6012461e-01,  2.8004241e-01, -3.2990269e-02,\n",
       "       -6.4894095e-02, -1.0748702e+00, -1.0400774e-01,  1.2550478e-01,\n",
       "        8.5458809e-01, -3.5431868e-01, -4.7584242e-01,  9.8019934e-01,\n",
       "        3.9946866e-01,  6.9540006e-01, -3.6561522e-01, -1.2018284e+00,\n",
       "        1.2634553e-01,  6.3506526e-01, -9.8306596e-01,  1.3086243e+00,\n",
       "       -1.7744406e+00, -1.3898468e+00,  3.1441906e-01, -2.4119520e+00,\n",
       "        5.6360805e-01,  1.0616268e-01, -6.7319095e-01,  3.5482708e-01,\n",
       "       -4.8877582e-01,  2.1805707e-01, -1.2628968e-01,  2.6709074e-01,\n",
       "       -6.2838674e-01, -7.7062654e-01,  1.5171729e+00,  5.7662648e-01,\n",
       "       -5.0616586e-01,  2.9726389e-01,  2.9693413e-01,  2.3690950e-02,\n",
       "       -9.1441053e-01,  1.6586098e-01, -7.4907786e-01, -3.6194792e-01,\n",
       "       -3.4464869e-01,  6.9018316e-01,  7.4656647e-01, -4.4741374e-01,\n",
       "        4.3143010e-01,  1.4664540e+00,  4.9665144e-01, -1.0223460e-01,\n",
       "        2.2520950e-01,  6.0458881e-01,  9.0316844e-01,  3.2609951e-01,\n",
       "       -3.8385680e-01, -1.4417744e-01,  1.3199240e+00, -5.1019984e-01,\n",
       "       -1.7276379e+00, -1.9040712e+00,  2.2226194e-01,  4.4876340e-01,\n",
       "        7.3893815e-01, -5.3193760e-01,  1.5682436e+00, -8.0535340e-01,\n",
       "        2.2701538e+00,  9.8207760e-01,  4.5984083e-01, -2.6231194e-01,\n",
       "       -1.4559731e+00,  9.6246785e-01,  3.3719641e-01,  1.6161029e+00,\n",
       "       -6.9630820e-01, -7.8575388e-02, -4.3511057e-01, -3.7642571e-01,\n",
       "        8.2176274e-01, -1.0698885e-01,  3.8959727e-01, -1.3530148e+00,\n",
       "        6.4293754e-01,  1.1860354e-01, -1.1753430e+00,  8.5907531e-01,\n",
       "       -3.2315046e-01,  8.6442953e-01,  9.0579009e-01,  9.8428136e-01,\n",
       "        2.1167445e+00, -8.7268263e-01,  5.3473812e-01, -6.2910002e-01,\n",
       "       -1.0141892e+00, -1.2209567e+00,  1.6321421e-02,  7.5070643e-01,\n",
       "       -6.8588263e-01, -7.0964795e-01, -1.2860669e+00, -1.6704333e-01,\n",
       "        9.4646043e-01,  6.2685460e-01, -3.3612314e-01, -4.4381309e-01,\n",
       "       -1.4573449e-01, -8.1296168e-02,  1.6337738e+00,  1.4202486e+00,\n",
       "       -2.1650586e+00,  1.9771604e-01, -5.2961749e-01,  1.6703465e+00,\n",
       "        6.1801332e-01,  2.2467852e-01, -2.9996502e-01,  6.5102684e-01,\n",
       "        1.6152358e+00,  6.8286434e-02, -9.0939116e-01,  6.6184300e-01,\n",
       "       -1.1493048e-01,  1.8909353e+00,  9.6880056e-02, -4.3512940e-01,\n",
       "       -9.2236418e-01,  2.8605708e-01,  1.0945829e+00,  1.0452182e+00,\n",
       "        1.5415318e+00,  3.8497370e-01, -1.5294342e-01,  3.9622974e-01],\n",
       "      dtype=float32)"
      ]
     },
     "execution_count": 23,
     "metadata": {},
     "output_type": "execute_result"
    }
   ],
   "source": [
    "feature2 = feature.cpu().detach().numpy().reshape(-1)\n",
    "feature2 = np.array(feature2)\n",
    "feature2"
   ]
  },
  {
   "cell_type": "code",
   "execution_count": null,
   "id": "9a9b3589",
   "metadata": {},
   "outputs": [],
   "source": []
  }
 ],
 "metadata": {
  "kernelspec": {
   "display_name": "Python 3",
   "language": "python",
   "name": "python3"
  },
  "language_info": {
   "codemirror_mode": {
    "name": "ipython",
    "version": 3
   },
   "file_extension": ".py",
   "mimetype": "text/x-python",
   "name": "python",
   "nbconvert_exporter": "python",
   "pygments_lexer": "ipython3",
   "version": "3.8.8"
  }
 },
 "nbformat": 4,
 "nbformat_minor": 5
}
